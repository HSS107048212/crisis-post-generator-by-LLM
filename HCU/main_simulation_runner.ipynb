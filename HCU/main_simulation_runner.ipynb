{
 "cells": [
  {
   "cell_type": "code",
   "execution_count": 4,
   "id": "d3180331-e26e-4cdc-a697-fdc1154a19c1",
   "metadata": {},
   "outputs": [
    {
     "name": "stdout",
     "output_type": "stream",
     "text": [
      "Requirement already satisfied: import-ipynb in c:\\programdata\\anaconda3\\envs\\llr\\lib\\site-packages (0.2)\n",
      "Requirement already satisfied: IPython in c:\\programdata\\anaconda3\\envs\\llr\\lib\\site-packages (from import-ipynb) (8.15.0)\n",
      "Requirement already satisfied: nbformat in c:\\programdata\\anaconda3\\envs\\llr\\lib\\site-packages (from import-ipynb) (5.10.4)\n",
      "Requirement already satisfied: backcall in c:\\programdata\\anaconda3\\envs\\llr\\lib\\site-packages (from IPython->import-ipynb) (0.2.0)\n",
      "Requirement already satisfied: decorator in c:\\programdata\\anaconda3\\envs\\llr\\lib\\site-packages (from IPython->import-ipynb) (5.1.1)\n",
      "Requirement already satisfied: jedi>=0.16 in c:\\programdata\\anaconda3\\envs\\llr\\lib\\site-packages (from IPython->import-ipynb) (0.19.2)\n",
      "Requirement already satisfied: matplotlib-inline in c:\\programdata\\anaconda3\\envs\\llr\\lib\\site-packages (from IPython->import-ipynb) (0.1.6)\n",
      "Requirement already satisfied: pickleshare in c:\\programdata\\anaconda3\\envs\\llr\\lib\\site-packages (from IPython->import-ipynb) (0.7.5)\n",
      "Requirement already satisfied: prompt-toolkit!=3.0.37,<3.1.0,>=3.0.30 in c:\\programdata\\anaconda3\\envs\\llr\\lib\\site-packages (from IPython->import-ipynb) (3.0.43)\n",
      "Requirement already satisfied: pygments>=2.4.0 in c:\\programdata\\anaconda3\\envs\\llr\\lib\\site-packages (from IPython->import-ipynb) (2.19.1)\n",
      "Requirement already satisfied: stack-data in c:\\programdata\\anaconda3\\envs\\llr\\lib\\site-packages (from IPython->import-ipynb) (0.2.0)\n",
      "Requirement already satisfied: traitlets>=5 in c:\\programdata\\anaconda3\\envs\\llr\\lib\\site-packages (from IPython->import-ipynb) (5.14.3)\n",
      "Requirement already satisfied: typing-extensions in c:\\programdata\\anaconda3\\envs\\llr\\lib\\site-packages (from IPython->import-ipynb) (4.12.2)\n",
      "Requirement already satisfied: exceptiongroup in c:\\programdata\\anaconda3\\envs\\llr\\lib\\site-packages (from IPython->import-ipynb) (1.2.0)\n",
      "Requirement already satisfied: colorama in c:\\programdata\\anaconda3\\envs\\llr\\lib\\site-packages (from IPython->import-ipynb) (0.4.6)\n",
      "Requirement already satisfied: wcwidth in c:\\programdata\\anaconda3\\envs\\llr\\lib\\site-packages (from prompt-toolkit!=3.0.37,<3.1.0,>=3.0.30->IPython->import-ipynb) (0.2.13)\n",
      "Requirement already satisfied: parso<0.9.0,>=0.8.4 in c:\\programdata\\anaconda3\\envs\\llr\\lib\\site-packages (from jedi>=0.16->IPython->import-ipynb) (0.8.4)\n",
      "Requirement already satisfied: fastjsonschema>=2.15 in c:\\programdata\\anaconda3\\envs\\llr\\lib\\site-packages (from nbformat->import-ipynb) (2.20.0)\n",
      "Requirement already satisfied: jsonschema>=2.6 in c:\\programdata\\anaconda3\\envs\\llr\\lib\\site-packages (from nbformat->import-ipynb) (4.25.0)\n",
      "Requirement already satisfied: jupyter-core!=5.0.*,>=4.12 in c:\\programdata\\anaconda3\\envs\\llr\\lib\\site-packages (from nbformat->import-ipynb) (5.8.1)\n",
      "Requirement already satisfied: attrs>=22.2.0 in c:\\programdata\\anaconda3\\envs\\llr\\lib\\site-packages (from jsonschema>=2.6->nbformat->import-ipynb) (24.3.0)\n",
      "Requirement already satisfied: jsonschema-specifications>=2023.03.6 in c:\\programdata\\anaconda3\\envs\\llr\\lib\\site-packages (from jsonschema>=2.6->nbformat->import-ipynb) (2023.7.1)\n",
      "Requirement already satisfied: referencing>=0.28.4 in c:\\programdata\\anaconda3\\envs\\llr\\lib\\site-packages (from jsonschema>=2.6->nbformat->import-ipynb) (0.30.2)\n",
      "Requirement already satisfied: rpds-py>=0.7.1 in c:\\programdata\\anaconda3\\envs\\llr\\lib\\site-packages (from jsonschema>=2.6->nbformat->import-ipynb) (0.22.3)\n",
      "Requirement already satisfied: platformdirs>=2.5 in c:\\programdata\\anaconda3\\envs\\llr\\lib\\site-packages (from jupyter-core!=5.0.*,>=4.12->nbformat->import-ipynb) (4.3.7)\n",
      "Requirement already satisfied: pywin32>=300 in c:\\programdata\\anaconda3\\envs\\llr\\lib\\site-packages (from jupyter-core!=5.0.*,>=4.12->nbformat->import-ipynb) (308)\n",
      "Requirement already satisfied: executing in c:\\programdata\\anaconda3\\envs\\llr\\lib\\site-packages (from stack-data->IPython->import-ipynb) (0.8.3)\n",
      "Requirement already satisfied: asttokens in c:\\programdata\\anaconda3\\envs\\llr\\lib\\site-packages (from stack-data->IPython->import-ipynb) (3.0.0)\n",
      "Requirement already satisfied: pure-eval in c:\\programdata\\anaconda3\\envs\\llr\\lib\\site-packages (from stack-data->IPython->import-ipynb) (0.2.2)\n",
      "Note: you may need to restart the kernel to use updated packages.\n"
     ]
    }
   ],
   "source": [
    "pip install import-ipynb"
   ]
  },
  {
   "cell_type": "code",
   "execution_count": 5,
   "id": "209863ac-143f-4144-8999-aeadaa4fd398",
   "metadata": {},
   "outputs": [
    {
     "name": "stdout",
     "output_type": "stream",
     "text": [
      "📍 正在隨機產生地點與危機...\n"
     ]
    },
    {
     "ename": "NameError",
     "evalue": "name 'get_nearby_amenities' is not defined",
     "output_type": "error",
     "traceback": [
      "\u001b[1;31m---------------------------------------------------------------------------\u001b[0m",
      "\u001b[1;31mNameError\u001b[0m                                 Traceback (most recent call last)",
      "Cell \u001b[1;32mIn[5], line 17\u001b[0m\n\u001b[0;32m     15\u001b[0m \u001b[38;5;66;03m# 步驟 1：產生隨機地點、危機類型與設施\u001b[39;00m\n\u001b[0;32m     16\u001b[0m \u001b[38;5;28mprint\u001b[39m(\u001b[38;5;124m\"\u001b[39m\u001b[38;5;124m📍 正在隨機產生地點與危機...\u001b[39m\u001b[38;5;124m\"\u001b[39m)\n\u001b[1;32m---> 17\u001b[0m df \u001b[38;5;241m=\u001b[39m \u001b[43mgenerate_random_crisis_data\u001b[49m\u001b[43m(\u001b[49m\u001b[43mnum_points\u001b[49m\u001b[38;5;241;43m=\u001b[39;49m\u001b[38;5;241;43m5\u001b[39;49m\u001b[43m)\u001b[49m\n\u001b[0;32m     19\u001b[0m \u001b[38;5;66;03m# 步驟 2：用 LLM 產生社群貼文\u001b[39;00m\n\u001b[0;32m     20\u001b[0m \u001b[38;5;28mprint\u001b[39m(\u001b[38;5;124m\"\u001b[39m\u001b[38;5;124m📝 正在生成貼文...\u001b[39m\u001b[38;5;124m\"\u001b[39m)\n",
      "File \u001b[1;32m<string>:21\u001b[0m, in \u001b[0;36mgenerate_random_crisis_data\u001b[1;34m(num_points)\u001b[0m\n",
      "\u001b[1;31mNameError\u001b[0m: name 'get_nearby_amenities' is not defined"
     ]
    }
   ],
   "source": [
    "# 匯入套件\n",
    "import import_ipynb  # 讓你可以匯入 .ipynb 檔案\n",
    "import pandas as pd\n",
    "from tqdm.auto import tqdm\n",
    "import time\n",
    "import random\n",
    "\n",
    "# 匯入自定義功能模組\n",
    "from config_and_utilities import clean_place, clean_amenities, CRISIS_EVENTS\n",
    "from geolocation_queries import reverse_geocode, get_elevation, overpass_query, analyze_location\n",
    "from query_nearby_amenities import get_nearby_amenities\n",
    "from crisis_data_generation import generate_random_crisis_data\n",
    "from crisis_post_generation import batch_generate_crisis_posts\n",
    "\n",
    "# 步驟 1：產生隨機地點、危機類型與設施\n",
    "print(\"📍 正在隨機產生地點與危機...\")\n",
    "df = generate_random_crisis_data(num_points=5)\n",
    "\n",
    "# 步驟 2：用 LLM 產生社群貼文\n",
    "print(\"📝 正在生成貼文...\")\n",
    "df = batch_generate_crisis_posts(df)\n",
    "\n",
    "# 步驟 3：顯示或儲存結果\n",
    "pd.set_option('display.max_colwidth', None)\n",
    "display(df[[\"Place\", \"Crisis_Event\", \"Amenities\", \"Crisis_Post\"]])\n",
    "\n",
    "# 選擇性儲存\n",
    "df.to_xlsx(\"hamburg_crisis_simulation.xlsx\", index=False)\n"
   ]
  },
  {
   "cell_type": "code",
   "execution_count": null,
   "id": "021222a6-ee0b-4530-985d-dc1ea9a0fcdd",
   "metadata": {},
   "outputs": [],
   "source": [
    "print(generate_random_crisis_data.__code__.co_filename)"
   ]
  },
  {
   "cell_type": "code",
   "execution_count": null,
   "id": "02d9e393-9d0d-4094-b0c9-ecb4ff751b61",
   "metadata": {},
   "outputs": [],
   "source": []
  },
  {
   "cell_type": "code",
   "execution_count": null,
   "id": "5a8a0e93-8e08-49fd-8d57-c799906353bb",
   "metadata": {},
   "outputs": [],
   "source": []
  }
 ],
 "metadata": {
  "kernelspec": {
   "display_name": "Python 3 (ipykernel)",
   "language": "python",
   "name": "python3"
  },
  "language_info": {
   "codemirror_mode": {
    "name": "ipython",
    "version": 3
   },
   "file_extension": ".py",
   "mimetype": "text/x-python",
   "name": "python",
   "nbconvert_exporter": "python",
   "pygments_lexer": "ipython3",
   "version": "3.9.23"
  }
 },
 "nbformat": 4,
 "nbformat_minor": 5
}
