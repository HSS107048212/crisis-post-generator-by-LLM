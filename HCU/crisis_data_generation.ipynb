{
 "cells": [
  {
   "cell_type": "code",
   "execution_count": 6,
   "id": "54b0118a-b817-4e3c-8462-b5f8146f55f6",
   "metadata": {},
   "outputs": [
    {
     "ename": "ModuleNotFoundError",
     "evalue": "No module named 'query_nearby_amenities'",
     "output_type": "error",
     "traceback": [
      "\u001b[1;31m---------------------------------------------------------------------------\u001b[0m",
      "\u001b[1;31mModuleNotFoundError\u001b[0m                       Traceback (most recent call last)",
      "Cell \u001b[1;32mIn[6], line 3\u001b[0m\n\u001b[0;32m      1\u001b[0m \u001b[38;5;28;01mimport\u001b[39;00m\u001b[38;5;250m \u001b[39m\u001b[38;5;21;01mrandom\u001b[39;00m\n\u001b[0;32m      2\u001b[0m \u001b[38;5;28;01mimport\u001b[39;00m\u001b[38;5;250m \u001b[39m\u001b[38;5;21;01mpandas\u001b[39;00m\u001b[38;5;250m \u001b[39m\u001b[38;5;28;01mas\u001b[39;00m\u001b[38;5;250m \u001b[39m\u001b[38;5;21;01mpd\u001b[39;00m\n\u001b[1;32m----> 3\u001b[0m \u001b[38;5;28;01mfrom\u001b[39;00m\u001b[38;5;250m \u001b[39m\u001b[38;5;21;01mquery_nearby_amenities\u001b[39;00m\u001b[38;5;250m \u001b[39m\u001b[38;5;28;01mimport\u001b[39;00m get_nearby_amenities\n\u001b[0;32m      5\u001b[0m \u001b[38;5;66;03m# 定義 Hamburg 的地理邊界（概略範圍）\u001b[39;00m\n\u001b[0;32m      6\u001b[0m MIN_LAT, MAX_LAT \u001b[38;5;241m=\u001b[39m \u001b[38;5;241m53.45\u001b[39m, \u001b[38;5;241m53.65\u001b[39m\n",
      "\u001b[1;31mModuleNotFoundError\u001b[0m: No module named 'query_nearby_amenities'"
     ]
    }
   ],
   "source": [
    "import random\n",
    "import pandas as pd\n",
    "from query_nearby_amenities import get_nearby_amenities\n",
    "\n",
    "# 定義 Hamburg 的地理邊界（概略範圍）\n",
    "MIN_LAT, MAX_LAT = 53.45, 53.65\n",
    "MIN_LON, MAX_LON = 9.8, 10.3\n",
    "CRISIS_EVENTS = [\"flood\", \"fire\", \"protest\", \"blackout\"]\n",
    "\n",
    "def generate_random_crisis_data(num_points):\n",
    "    results = []\n",
    "    for i in range(num_points):\n",
    "\n",
    "        lat = round(random.uniform(MIN_LAT, MAX_LAT), 6)\n",
    "        lon = round(random.uniform(MIN_LON, MAX_LON), 6)\n",
    "        try:\n",
    "            place_raw = reverse_geocode(lat, lon).get(\"display_name\", \"未知地點\")\n",
    "            place = clean_place(place_raw)\n",
    "        except:\n",
    "            place = \"查詢失敗\"\n",
    "        crisis = random.choice(CRISIS_EVENTS)\n",
    "        amenities = get_nearby_amenities(lat, lon)\n",
    "        amenities_clean = clean_amenities(\"; \".join(amenities))\n",
    "        results.append({\n",
    "            \"Index\": i + 1,\n",
    "            \"Latitude\": lat,\n",
    "            \"Longitude\": lon,\n",
    "            \"Place\": place,\n",
    "            \"Crisis_Event\": crisis,\n",
    "            \"Amenities\": amenities_clean\n",
    "        })\n",
    "        print(f\"[{i+1}/{num_points}] {place} - {crisis}\")\n",
    "        time.sleep(1)\n",
    "    return pd.DataFrame(results)\n"
   ]
  }
 ],
 "metadata": {
  "kernelspec": {
   "display_name": "Python 3 (ipykernel)",
   "language": "python",
   "name": "python3"
  },
  "language_info": {
   "codemirror_mode": {
    "name": "ipython",
    "version": 3
   },
   "file_extension": ".py",
   "mimetype": "text/x-python",
   "name": "python",
   "nbconvert_exporter": "python",
   "pygments_lexer": "ipython3",
   "version": "3.9.23"
  }
 },
 "nbformat": 4,
 "nbformat_minor": 5
}
