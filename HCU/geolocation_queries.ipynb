{
 "cells": [
  {
   "cell_type": "code",
   "execution_count": null,
   "id": "f825d8a7-1093-4cc2-a7b4-3d0d65137eed",
   "metadata": {},
   "outputs": [],
   "source": [
    "def reverse_geocode(lat, lon):\n",
    "    response = requests.get(NOMINATIM_URL, params={\n",
    "        \"lat\": lat,\n",
    "        \"lon\": lon,\n",
    "        \"format\": \"json\",\n",
    "        \"zoom\": 17,\n",
    "        \"addressdetails\": 1\n",
    "    }, headers=HEADERS)\n",
    "    return response.json()\n",
    "\n",
    "def get_elevation(lat, lon):\n",
    "    response = requests.get(f\"{ELEVATION_URL}?locations={lat},{lon}\")\n",
    "    result = response.json()\n",
    "    return result['results'][0]['elevation']\n",
    "\n",
    "def overpass_query(lat, lon, feature):\n",
    "    if feature == \"mountain\":\n",
    "        query = f\"\"\"\n",
    "        [out:json][timeout:25];\n",
    "        (node(around:3000,{lat},{lon})[\"natural\"~\"peak|hill\"];\n",
    "         way(around:3000,{lat},{lon})[\"natural\"~\"peak|hill\"];);\n",
    "        out center;\n",
    "        \"\"\"\n",
    "    elif feature == \"water\":\n",
    "        query = f\"\"\"\n",
    "        [out:json][timeout:25];\n",
    "        (node(around:3000,{lat},{lon})[\"natural\"~\"coastline|bay|beach|water|sea\"];\n",
    "         way(around:3000,{lat},{lon})[\"natural\"~\"coastline|bay|beach|water|sea\"];\n",
    "         relation(around:3000,{lat},{lon})[\"natural\"~\"coastline|bay|beach|water|sea\"];);\n",
    "        out center;\n",
    "        \"\"\"\n",
    "    else:\n",
    "        return []\n",
    "    response = requests.post(OVERPASS_URL, data=query)\n",
    "    return response.json().get(\"elements\", [])\n",
    "\n",
    "def analyze_location(lat, lon):\n",
    "    info = reverse_geocode(lat, lon)\n",
    "    display_name = info.get('display_name', '未知地名')\n",
    "    elevation = get_elevation(lat, lon)\n",
    "    has_mountain = len(overpass_query(lat, lon, \"mountain\")) > 0\n",
    "    has_water = len(overpass_query(lat, lon, \"water\")) > 0\n",
    "    return {\n",
    "        \"display_name\": display_name,\n",
    "        \"elevation\": elevation,\n",
    "        \"has_mountain\": has_mountain,\n",
    "        \"has_water\": has_water\n",
    "    }\n"
   ]
  }
 ],
 "metadata": {
  "kernelspec": {
   "display_name": "Python 3 (ipykernel)",
   "language": "python",
   "name": "python3"
  },
  "language_info": {
   "codemirror_mode": {
    "name": "ipython",
    "version": 3
   },
   "file_extension": ".py",
   "mimetype": "text/x-python",
   "name": "python",
   "nbconvert_exporter": "python",
   "pygments_lexer": "ipython3",
   "version": "3.9.23"
  }
 },
 "nbformat": 4,
 "nbformat_minor": 5
}
