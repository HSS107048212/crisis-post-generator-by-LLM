{
 "cells": [
  {
   "cell_type": "code",
   "execution_count": null,
   "id": "b1a0fab9-4e44-4897-876c-f7dce2f94e2e",
   "metadata": {},
   "outputs": [],
   "source": [
    "# 設定 API & 參數\n",
    "import re\n",
    "import time\n",
    "import requests\n",
    "\n",
    "HEADERS = {\"User-Agent\": \"hamburg-crisis-bot/1.0\"}\n",
    "NOMINATIM_URL = \"https://nominatim.openstreetmap.org/reverse\"\n",
    "OVERPASS_URL = \"https://overpass-api.de/api/interpreter\"\n",
    "ELEVATION_URL = \"https://api.open-elevation.com/api/v1/lookup\"\n",
    "CRISIS_EVENTS = [\"flood\", \"fire\", \"protest\", \"blackout\"]\n",
    "\n",
    "# Hamburg 地理邊界\n",
    "MIN_LAT, MAX_LAT = 53.45, 53.65\n",
    "MIN_LON, MAX_LON = 9.8, 10.3\n",
    "\n",
    "# 清理地址\n",
    "def clean_place(text):\n",
    "    text = re.sub(r\",\\s*\\d{5}\", \"\", text)\n",
    "    text = re.sub(r\",\\s*Deutschland\", \"\", text)\n",
    "    return text.strip()\n",
    "\n",
    "# 清理設施清單\n",
    "def clean_amenities(text):\n",
    "    time.sleep(1)\n",
    "    items = text.split(\";\")\n",
    "    named, unnamed = [], []\n",
    "    for item in items:\n",
    "        item = item.strip()\n",
    "        if match := re.match(r\"(.+?) \\((.+?)\\)\", item):\n",
    "            name, category = match.groups()\n",
    "            if name == \"[Unnamed]\":\n",
    "                unnamed.append(category)\n",
    "            else:\n",
    "                named.append(f\"{name} ({category})\")\n",
    "    return \"; \".join(named) if named else \"; \".join(unnamed)\n"
   ]
  }
 ],
 "metadata": {
  "kernelspec": {
   "display_name": "Python 3 (ipykernel)",
   "language": "python",
   "name": "python3"
  },
  "language_info": {
   "codemirror_mode": {
    "name": "ipython",
    "version": 3
   },
   "file_extension": ".py",
   "mimetype": "text/x-python",
   "name": "python",
   "nbconvert_exporter": "python",
   "pygments_lexer": "ipython3",
   "version": "3.9.23"
  }
 },
 "nbformat": 4,
 "nbformat_minor": 5
}
