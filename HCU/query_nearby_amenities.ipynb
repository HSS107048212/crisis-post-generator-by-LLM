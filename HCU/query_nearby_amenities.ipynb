{
 "cells": [
  {
   "cell_type": "code",
   "execution_count": 1,
   "id": "ac93fb44-569f-4286-a575-0a69b39eaa02",
   "metadata": {},
   "outputs": [],
   "source": [
    "def get_nearby_amenities(lat, lon):\n",
    "    query = f\"\"\"\n",
    "    [out:json][timeout:25];\n",
    "    (\n",
    "      node(around:1000,{lat},{lon})[\"amenity\"];\n",
    "      way(around:1000,{lat},{lon})[\"amenity\"];\n",
    "      relation(around:1000,{lat},{lon})[\"amenity\"];\n",
    "    );\n",
    "    out center 10;\n",
    "    \"\"\"\n",
    "    try:\n",
    "        response = requests.post(OVERPASS_URL, data=query, headers=HEADERS)\n",
    "        data = response.json()\n",
    "        amenities = []\n",
    "        for el in data.get(\"elements\", []):\n",
    "            tags = el.get(\"tags\", {})\n",
    "            name = tags.get(\"name\")\n",
    "            category = tags.get(\"amenity\")\n",
    "            if name:\n",
    "                amenities.append(f\"{name} ({category})\")\n",
    "            elif category:\n",
    "                amenities.append(f\"[Unnamed] ({category})\")\n",
    "            if len(amenities) >= 10:\n",
    "                break\n",
    "        return amenities\n",
    "    except Exception as e:\n",
    "        return [f\"Error fetching amenities: {e}\"]\n"
   ]
  },
  {
   "cell_type": "code",
   "execution_count": null,
   "id": "c64c789c-301b-4748-ac68-78d6a60e2249",
   "metadata": {},
   "outputs": [],
   "source": []
  }
 ],
 "metadata": {
  "kernelspec": {
   "display_name": "Python 3 (ipykernel)",
   "language": "python",
   "name": "python3"
  },
  "language_info": {
   "codemirror_mode": {
    "name": "ipython",
    "version": 3
   },
   "file_extension": ".py",
   "mimetype": "text/x-python",
   "name": "python",
   "nbconvert_exporter": "python",
   "pygments_lexer": "ipython3",
   "version": "3.9.23"
  }
 },
 "nbformat": 4,
 "nbformat_minor": 5
}
