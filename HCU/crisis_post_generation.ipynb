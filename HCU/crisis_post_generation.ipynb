{
 "cells": [
  {
   "cell_type": "code",
   "execution_count": 3,
   "id": "76f7a0de-b3db-4867-8e2c-87aabe7388e5",
   "metadata": {},
   "outputs": [
    {
     "name": "stdout",
     "output_type": "stream",
     "text": [
      "Requirement already satisfied: openai==0.28 in c:\\programdata\\anaconda3\\envs\\llr\\lib\\site-packages (0.28.0)\n",
      "Requirement already satisfied: requests>=2.20 in c:\\programdata\\anaconda3\\envs\\llr\\lib\\site-packages (from openai==0.28) (2.32.4)\n",
      "Requirement already satisfied: tqdm in c:\\programdata\\anaconda3\\envs\\llr\\lib\\site-packages (from openai==0.28) (4.67.1)\n",
      "Requirement already satisfied: aiohttp in c:\\programdata\\anaconda3\\envs\\llr\\lib\\site-packages (from openai==0.28) (3.12.14)\n",
      "Requirement already satisfied: charset_normalizer<4,>=2 in c:\\programdata\\anaconda3\\envs\\llr\\lib\\site-packages (from requests>=2.20->openai==0.28) (3.3.2)\n",
      "Requirement already satisfied: idna<4,>=2.5 in c:\\programdata\\anaconda3\\envs\\llr\\lib\\site-packages (from requests>=2.20->openai==0.28) (3.7)\n",
      "Requirement already satisfied: urllib3<3,>=1.21.1 in c:\\programdata\\anaconda3\\envs\\llr\\lib\\site-packages (from requests>=2.20->openai==0.28) (2.5.0)\n",
      "Requirement already satisfied: certifi>=2017.4.17 in c:\\programdata\\anaconda3\\envs\\llr\\lib\\site-packages (from requests>=2.20->openai==0.28) (2025.7.14)\n",
      "Requirement already satisfied: aiohappyeyeballs>=2.5.0 in c:\\programdata\\anaconda3\\envs\\llr\\lib\\site-packages (from aiohttp->openai==0.28) (2.6.1)\n",
      "Requirement already satisfied: aiosignal>=1.4.0 in c:\\programdata\\anaconda3\\envs\\llr\\lib\\site-packages (from aiohttp->openai==0.28) (1.4.0)\n",
      "Requirement already satisfied: async-timeout<6.0,>=4.0 in c:\\programdata\\anaconda3\\envs\\llr\\lib\\site-packages (from aiohttp->openai==0.28) (5.0.1)\n",
      "Requirement already satisfied: attrs>=17.3.0 in c:\\programdata\\anaconda3\\envs\\llr\\lib\\site-packages (from aiohttp->openai==0.28) (24.3.0)\n",
      "Requirement already satisfied: frozenlist>=1.1.1 in c:\\programdata\\anaconda3\\envs\\llr\\lib\\site-packages (from aiohttp->openai==0.28) (1.7.0)\n",
      "Requirement already satisfied: multidict<7.0,>=4.5 in c:\\programdata\\anaconda3\\envs\\llr\\lib\\site-packages (from aiohttp->openai==0.28) (6.6.3)\n",
      "Requirement already satisfied: propcache>=0.2.0 in c:\\programdata\\anaconda3\\envs\\llr\\lib\\site-packages (from aiohttp->openai==0.28) (0.3.2)\n",
      "Requirement already satisfied: yarl<2.0,>=1.17.0 in c:\\programdata\\anaconda3\\envs\\llr\\lib\\site-packages (from aiohttp->openai==0.28) (1.20.1)\n",
      "Requirement already satisfied: typing-extensions>=4.1.0 in c:\\programdata\\anaconda3\\envs\\llr\\lib\\site-packages (from multidict<7.0,>=4.5->aiohttp->openai==0.28) (4.12.2)\n",
      "Requirement already satisfied: colorama in c:\\programdata\\anaconda3\\envs\\llr\\lib\\site-packages (from tqdm->openai==0.28) (0.4.6)\n"
     ]
    }
   ],
   "source": [
    "!pip install openai==0.28"
   ]
  },
  {
   "cell_type": "code",
   "execution_count": 5,
   "id": "e57b089a-86d2-4f65-a99a-a74f690a98bc",
   "metadata": {},
   "outputs": [],
   "source": [
    "import openai\n",
    "from tqdm.auto import tqdm\n",
    "import time\n",
    "\n",
    "\n",
    "api_key=\"923a50a26293c4b70d4ba05e4642b5ca\",\n",
    "base_url=\"https://chat-ai.academiccloud.de/v1\"\n",
    "\n",
    "\n",
    "model = \"qwen3-32b\"\n",
    "temperature = 0.8\n",
    "\n",
    "def generate_crisis_post(place, crisis_event, lat, lon, Amenities):\n",
    "    prompt = f\"\"\"\n",
    "    You are a Hamburg resident live-posting on social media.\n",
    "\n",
    "    A **{crisis_event}** is unfolding near **{place}**. There are several amenities: {Amenities} in this area — please make sure your description stays **within the vicinity of this location**, based on these surroundings.\n",
    "\n",
    "    Write a short and urgent **first-person** social media post in **English**, consisting of **3 to 4 vivid, emotional sentences**.\n",
    "    Make sure a **clear reference to the location** in the style of German addresses (but don't include the structure directly). Focus on urgency, chaos, atmosphere, and personal reaction.\n",
    "    \"\"\"\n",
    "    response = client.chat.completions.create(\n",
    "        model=model,\n",
    "        messages=[{\"role\": \"user\", \"content\": prompt}],\n",
    "        temperature=temperature,\n",
    "    )\n",
    "    return response.choices[0].message.content.strip()\n",
    "\n",
    "\n",
    "def batch_generate_crisis_posts(df):\n",
    "    posts = []\n",
    "    for _, row in tqdm(df.iterrows(), total=len(df), desc=\"Generating posts\"):\n",
    "        try:\n",
    "            post = generate_crisis_post(\n",
    "                place=row[\"Place\"],\n",
    "                crisis_event=row[\"Crisis_Event\"],\n",
    "                lat=row[\"Latitude\"],\n",
    "                lon=row[\"Longitude\"],\n",
    "                Amenities=row[\"Amenities\"]\n",
    "            )\n",
    "        except Exception as e:\n",
    "            print(f\"⚠️ Error at row {_}: {e}\")\n",
    "            post = \"\"\n",
    "        posts.append(post)\n",
    "        time.sleep(0.4)\n",
    "    df[\"Crisis_Post\"] = posts\n",
    "    return df\n"
   ]
  },
  {
   "cell_type": "code",
   "execution_count": null,
   "id": "89f52196-93c2-4adf-9274-b63fc889154d",
   "metadata": {},
   "outputs": [],
   "source": []
  }
 ],
 "metadata": {
  "kernelspec": {
   "display_name": "Python 3 (ipykernel)",
   "language": "python",
   "name": "python3"
  },
  "language_info": {
   "codemirror_mode": {
    "name": "ipython",
    "version": 3
   },
   "file_extension": ".py",
   "mimetype": "text/x-python",
   "name": "python",
   "nbconvert_exporter": "python",
   "pygments_lexer": "ipython3",
   "version": "3.9.23"
  }
 },
 "nbformat": 4,
 "nbformat_minor": 5
}
