# ===== 1. 基本設定 =====
from openai import OpenAI
import pandas as pd
import time
from tqdm.auto import tqdm  # 進度條

api_key   = ""
base_url  = "https://chat-ai.academiccloud.de/v1"
model     = "qwen3-32b"      # 可替換為其他 GWDG 開放的模型
temperature = 0.8                              # 創造力高低（可調）

client = OpenAI(api_key=api_key, base_url=base_url)

# ===== 2. 自訂函式：產生危機貼文 =====
def generate_crisis_post(place: str,
                         crisis_event: str,
                         lat: float,
                         lon: float) -> str:
    """
    依指定地點／事件／座標，呼叫 LLM 產生 3~4 句緊急社群貼文
    回傳純文字。
    """
    # 這裡示範德文；可改成繁中或英文
    prompt = (
        f"Du bist eine Hamburger*in, die gerade live in den sozialen Medien postet. "
        f"In der Nähe von {place} (Koordinaten: {lat:.5f}, {lon:.5f}) "
        f"findet ein(e) {crisis_event} statt. "
        f"Schreibe in der Ich‑Form 3–4 kurze, dringliche Sätze, "
        f"um die Situation zu beschreiben."
    )

    response = client.chat.completions.create(
        model=model,
        messages=[{"role": "user", "content": prompt}],
        temperature=temperature,
    )

    return response.choices[0].message.content.strip()

# ===== 3. 範例 DataFrame (`df`) 應包含下列欄位 =====
# df = pd.read_csv("your_locations.csv")  # 或任何方式載入
# 必須具備：Latitude, Longitude, Place, Crisis_Event

# ===== 4. 實際批次呼叫並新增新欄位 =====
posts = []
for _, row in tqdm(df.iterrows(), total=len(df), desc="Generating posts"):
    try:
        post_text = generate_crisis_post(
            place        = row["Place"],
            crisis_event = row["Crisis_Event"],
            lat          = row["Latitude"],
            lon          = row["Longitude"],
        )
    except Exception as e:
        # 若 API 超時或配額不足，可在這裡做重試或填入空字串
        print(f"⚠️  Row {_}: {e}")
        post_text = ""
    posts.append(post_text)
    time.sleep(0.4)     # 視情況調整，避免触發速度限制

df["Crisis_Post"] = posts

# ===== 5. (可選) 儲存或檢視 =====
df.to_excel("locations_with_posts.xlsx", index=False)
df.head()
